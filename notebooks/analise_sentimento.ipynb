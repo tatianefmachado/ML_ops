{
 "cells": [
  {
   "cell_type": "code",
   "execution_count": 15,
   "id": "80374d20",
   "metadata": {},
   "outputs": [
    {
     "data": {
      "text/plain": [
       "0.8"
      ]
     },
     "execution_count": 15,
     "metadata": {},
     "output_type": "execute_result"
    }
   ],
   "source": [
    "\"\"\"\n",
    "\n",
    "Funcao que define a probabilidade da frase ser positiva ou negativa\n",
    "\n",
    "Funcao polaridade:\n",
    "1) Varia de -1 a 1 \n",
    "2)Quanto mais proximo de -1 mais negativa é a mensagem enquanto que \n",
    "mais próxima de 1 é positiva\n",
    "\n",
    "\"\"\"\n",
    "from textblob import TextBlob\n",
    "frase = \"Python é ótimo pra Machine Learning\"\n",
    "tb = TextBlob(frase)\n",
    "tb_eng = tb.translate(from_lang='pt_br', to='en')\n",
    "tb_eng.sentiment.polarity"
   ]
  }
 ],
 "metadata": {
  "kernelspec": {
   "display_name": "Python 3 (ipykernel)",
   "language": "python",
   "name": "python3"
  },
  "language_info": {
   "codemirror_mode": {
    "name": "ipython",
    "version": 3
   },
   "file_extension": ".py",
   "mimetype": "text/x-python",
   "name": "python",
   "nbconvert_exporter": "python",
   "pygments_lexer": "ipython3",
   "version": "3.10.7"
  }
 },
 "nbformat": 4,
 "nbformat_minor": 5
}
